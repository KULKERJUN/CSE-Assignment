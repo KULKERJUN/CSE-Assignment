{
  "nbformat": 4,
  "nbformat_minor": 0,
  "metadata": {
    "colab": {
      "provenance": []
    },
    "kernelspec": {
      "name": "python3",
      "display_name": "Python 3"
    },
    "language_info": {
      "name": "python"
    }
  },
  "cells": [
    {
      "cell_type": "code",
      "execution_count": null,
      "metadata": {
        "colab": {
          "base_uri": "https://localhost:8080/"
        },
        "id": "POTdfPub5FQH",
        "outputId": "fb87d501-90d9-4e22-ecba-b24f4349ca75"
      },
      "outputs": [
        {
          "output_type": "stream",
          "name": "stdout",
          "text": [
            "Name: Just a student Department: nothing\n",
            "Name: Humpty Dumpty Department: nothing\n",
            "Name: Little Bo Peep Department: nothing\n"
          ]
        }
      ],
      "source": [
        "#TASK 1\n",
        "class Student:\n",
        " def __init__(self, name='Just a student', dept='nothing'):\n",
        "  self.__name = name\n",
        "  self.__department = dept\n",
        "\n",
        " def set_department(self, dept):\n",
        "  self.__department = dept\n",
        "\n",
        " def get_name(self):\n",
        "  return self.__name\n",
        "\n",
        " def set_name(self,name):\n",
        "  self.__name = name\n",
        "\n",
        " def __str__(self):\n",
        "  return 'Name: '+self.__name+' Department: '+self.__department\n",
        "\n",
        "class BBA_Student(Student):\n",
        "  def __init__(self, name= 'Default', dept='BBA'):\n",
        "    Student .__init__(self,name,dept)\n",
        "\n",
        "print(BBA_Student())\n",
        "print(BBA_Student('Humpty Dumpty'))\n",
        "print(BBA_Student('Little Bo Peep'))"
      ]
    },
    {
      "cell_type": "code",
      "source": [
        "#TASK2\n",
        "class Vehicle:\n",
        " def __init__(self):\n",
        "  self.x = 0\n",
        "  self.y = 0\n",
        " def moveUp(self):\n",
        "  self.y+=1\n",
        " def moveDown(self):\n",
        "  self.y-=1\n",
        " def moveRight(self):\n",
        "  self.x+=1\n",
        " def moveLeft(self):\n",
        "  self.x-=1\n",
        " def __str__(self):\n",
        "  return '('+str(self.x)+' , '+str(self.y)+')'\n",
        "#write your code here\n",
        "class Vehicle2010(Vehicle):\n",
        "  def __init__(self):\n",
        "    Vehicle.__init__(self)\n",
        "\n",
        "  def moveLowerLeft(self):\n",
        "    self.moveDown()\n",
        "    self.moveLeft()\n",
        "  \n",
        "  def LowerRight(self):\n",
        "    self.moveRight()\n",
        "    self.moveLeft()\n",
        "  \n",
        "  def UpperRight(self):\n",
        "    self.moveUp()\n",
        "    self.moveRight()\n",
        "  \n",
        "  def UpperLeft(self):\n",
        "    self.moveLeft()\n",
        "    self.moveUp()\n",
        "\n",
        "  def equals(self,other):\n",
        "    if self.x==other.x and self.y==other.y:\n",
        "      return True\n",
        "    else:\n",
        "      return False\n",
        "\n",
        "print('Part 1')\n",
        "print('------')\n",
        "car = Vehicle()\n",
        "print(car)\n",
        "car.moveUp()\n",
        "print(car)\n",
        "car.moveLeft()\n",
        "print(car)\n",
        "car.moveDown()\n",
        "print(car)\n",
        "car.moveRight()\n",
        "print(car)\n",
        "print('------')\n",
        "print('Part 2')\n",
        "print('------')\n",
        "car1 = Vehicle2010()\n",
        "print(car1)\n",
        "car1.moveLowerLeft()\n",
        "print(car1)\n",
        "car2 = Vehicle2010()\n",
        "car2.moveLeft()\n",
        "print(car1.equals(car2))\n",
        "car2.moveDown()\n",
        "print(car1.equals(car2))"
      ],
      "metadata": {
        "colab": {
          "base_uri": "https://localhost:8080/"
        },
        "id": "178uRdNK7kSC",
        "outputId": "6031121c-a84e-47cb-c2c4-94ebcd32fb38"
      },
      "execution_count": null,
      "outputs": [
        {
          "output_type": "stream",
          "name": "stdout",
          "text": [
            "Part 1\n",
            "------\n",
            "(0 , 0)\n",
            "(0 , 1)\n",
            "(-1 , 1)\n",
            "(-1 , 0)\n",
            "(0 , 0)\n",
            "------\n",
            "Part 2\n",
            "------\n",
            "(0 , 0)\n",
            "(-1 , -1)\n",
            "False\n",
            "True\n"
          ]
        }
      ]
    },
    {
      "cell_type": "code",
      "source": [
        "#Task3\n",
        "class Tournament:\n",
        " def __init__(self,name='Default'):\n",
        "  self.__name = name\n",
        " def set_name(self,name):\n",
        "  self.__name = name\n",
        " def get_name(self):\n",
        "  return self.__name\n",
        "#write your code here\n",
        "\n",
        "class Cricket_Tournament(Tournament):\n",
        "  def __init__(self,name='Default',team=0,typee='No type'):\n",
        "    \n",
        "    self.team=team\n",
        "    self.typee=typee\n",
        "    Tournament.__init__(self,name)\n",
        "\n",
        "  def detail(self):\n",
        "    return f'Cricket Tournament:{Tournament.get_name(self)}\\nNumber of Teams: {self.team}\\nType:{self.typee}'\n",
        "class Tennis_Tournament(Tournament):\n",
        "  def __init__(self,name='Default',team=0):\n",
        "    \n",
        "    self.team=team\n",
        "    Tournament.__init__(self,name)\n",
        "\n",
        "  def detail(self):\n",
        "    return f'Tennis Tournament:{Tournament.get_name(self)}\\nNumber of Teams: {self.team}'\n",
        "\n",
        "ct1 = Cricket_Tournament()\n",
        "print(ct1.detail())\n",
        "print(\"-----------------------\")\n",
        "ct2 = Cricket_Tournament(\"IPL\",10,\"t20\")\n",
        "print(ct2.detail())\n",
        "print(\"-----------------------\")\n",
        "tt = Tennis_Tournament(\"Roland Garros\",128)\n",
        "print(tt.detail())\n"
      ],
      "metadata": {
        "colab": {
          "base_uri": "https://localhost:8080/"
        },
        "id": "_9rau-lv7p-i",
        "outputId": "083a3467-2055-4985-82bf-9f2af983fcb8"
      },
      "execution_count": null,
      "outputs": [
        {
          "output_type": "stream",
          "name": "stdout",
          "text": [
            "Cricket Tournament:Default\n",
            "Number of Teams: 0\n",
            "Type:No type\n",
            "-----------------------\n",
            "Cricket Tournament:IPL\n",
            "Number of Teams: 10\n",
            "Type:t20\n",
            "-----------------------\n",
            "Tennis Tournament:Roland Garros\n",
            "Number of Teams: 128\n"
          ]
        }
      ]
    },
    {
      "cell_type": "code",
      "source": [
        "#TASK 4\n",
        "class Product:\n",
        " def __init__(self,id, title, price):\n",
        "  self.__id = id\n",
        "  self.__title = title\n",
        "  self.__price = price\n",
        " def get_id_title_price(self):\n",
        "  return \"ID: \"+ str(self.__id) + \" Title:\" + self.__title + \"Price: \" + str(self.__price)\n",
        "#write your code here\n",
        "class Book(Product):\n",
        "  def __init__(self,id,title,price,wt,publisher):\n",
        "    self.wt=wt\n",
        "    self.publisher=publisher\n",
        "    Product.__init__(self,id,title, price)\n",
        "\n",
        "  def printDetail(self):\n",
        "    return f'{Product.get_id_title_price (self)}\\nISBN: {self.wt} Publisher: {self.publisher}'\n",
        "\n",
        "\n",
        "class CD(Product):\n",
        "  def __init__(self,id,title,price,publisher,time,genre):\n",
        "    self.publisher=publisher\n",
        "    self.time=time\n",
        "    self.genre='Hard Rock'\n",
        "    Product.__init__(self,id, title, price)\n",
        "\n",
        "  def printDetail(self):\n",
        "    return f'{Product.get_id_title_price(self)}\\nBand: {self.publisher} Duration: {self.time}minutes\\nGenre: {self.genre}'\n",
        "\n",
        "book = Book(1,\"The Alchemist\",500,\"97806\",\"HarperCollins\")\n",
        "print(book.printDetail())\n",
        "print(\"-----------------------\")\n",
        "cd = CD(2,\"Shotto\",300,\"Warfaze\",50,\"Hard Rock\")\n",
        "print(cd.printDetail())"
      ],
      "metadata": {
        "colab": {
          "base_uri": "https://localhost:8080/"
        },
        "id": "Zahbhkah7qUa",
        "outputId": "d5dcdc19-a563-4018-f0ce-0d9303fa4e11"
      },
      "execution_count": null,
      "outputs": [
        {
          "output_type": "stream",
          "name": "stdout",
          "text": [
            "ID: 1 Title:The AlchemistPrice: 500\n",
            "ISBN: 97806 Publisher: HarperCollins\n",
            "-----------------------\n",
            "ID: 2 Title:ShottoPrice: 300\n",
            "Band: Warfaze Duration: 50minutes\n",
            "Genre: Hard Rock\n"
          ]
        }
      ]
    },
    {
      "cell_type": "code",
      "source": [
        "#Task 5\n",
        "class Animal:\n",
        " def __init__(self,sound):\n",
        "  self.__sound = sound\n",
        "\n",
        " def makeSound(self):\n",
        "  return self.__sound\n",
        "\n",
        "class Printer:\n",
        " def printSound(self, a):\n",
        "  print(a.makeSound())\n",
        "#write your code here\n",
        "\n",
        "class Dog(Animal):\n",
        "  def __init__(self,sound):\n",
        "    Animal.__init__(self,sound)\n",
        "\n",
        "#class Cat(Animal):\n",
        "  #def __init__(self,sound):\n",
        "   # Animal.__init__(self,sound)\n",
        "class Cat(Dog):\n",
        "  def __init__(self,sound):\n",
        "    Animal.__init__(self,sound)\n",
        "\n",
        "d1 = Dog('bark')\n",
        "c1 = Cat('meow')\n",
        "a1 = Animal('Animal does not make sound')\n",
        "pr = Printer()\n",
        "pr.printSound(a1)\n",
        "pr.printSound(c1)\n",
        "pr.printSound(d1)\n"
      ],
      "metadata": {
        "id": "fSdlGSZL7qma",
        "colab": {
          "base_uri": "https://localhost:8080/"
        },
        "outputId": "9404baf5-8af9-4f1f-d59d-ac73563da127"
      },
      "execution_count": null,
      "outputs": [
        {
          "output_type": "stream",
          "name": "stdout",
          "text": [
            "Animal does not make sound\n",
            "meow\n",
            "bark\n"
          ]
        }
      ]
    },
    {
      "cell_type": "code",
      "source": [
        "#TASK 6\n",
        "class Shape:\n",
        " def __init__(self, name='Default', height=0, base=0):\n",
        "  self.area = 0\n",
        "  self.name = name\n",
        "  self.height = height\n",
        "  self.base = base\n",
        " def get_height_base(self):\n",
        "  return \"Height: \"+str(self.height)+\",Base: \"+str(self.base)\n",
        "\n",
        "class triangle(Shape):\n",
        "  def __init__(self,name='Default',height=0,base=0):\n",
        "    \n",
        "    Shape.__init__(self,name,height,base)\n",
        "\n",
        "  def calcArea(self):\n",
        "    self.area=self.height*self.base*(1/2)\n",
        "  \n",
        "  def printDetail(self):\n",
        "    return(f'Shape Name: {self.name}\\n{Shape.get_height_base(self)}\\nArea: {self.area}')\n",
        "    \n",
        "class trapezoid(Shape):\n",
        "  def __init__(self,name,height,base,side_A):\n",
        "    self.side_A=side_A\n",
        "    Shape.__init__(self,name,height,base)\n",
        "\n",
        "  def calcArea(self):\n",
        "    self.area=self.height*(self.side_A+self.base)*(1/2)\n",
        "  \n",
        "  def printDetail(self):\n",
        "    return(f'Shape Name: {self.name}\\n{Shape.get_height_base(self)} Side_A: {self.side_A}\\nArea: {self.area}')\n",
        "\n",
        "#write your code here\n",
        "tri_default = triangle()\n",
        "tri_default.calcArea()\n",
        "print(tri_default.printDetail())\n",
        "print('--------------------------')\n",
        "tri = triangle('Triangle', 10, 5)\n",
        "tri.calcArea()\n",
        "print(tri.printDetail())\n",
        "print('---------------------------')\n",
        "trap = trapezoid('Trapezoid', 10, 6, 4)\n",
        "trap.calcArea()\n",
        "print(trap.printDetail())"
      ],
      "metadata": {
        "id": "vEZnCBbr7q7x",
        "colab": {
          "base_uri": "https://localhost:8080/"
        },
        "outputId": "2977d96c-f883-41f2-8065-3b5bd402e2a0"
      },
      "execution_count": null,
      "outputs": [
        {
          "output_type": "stream",
          "name": "stdout",
          "text": [
            "Shape Name: Default\n",
            "Height: 0,Base: 0\n",
            "Area: 0.0\n",
            "--------------------------\n",
            "Shape Name: Triangle\n",
            "Height: 10,Base: 5\n",
            "Area: 25.0\n",
            "---------------------------\n",
            "Shape Name: Trapezoid\n",
            "Height: 10,Base: 6 Side_A: 4\n",
            "Area: 50.0\n"
          ]
        }
      ]
    },
    {
      "cell_type": "code",
      "source": [
        "class Football:\n",
        " def __init__(self, team_name, name, role):\n",
        "  self.__team = team_name\n",
        "  self.__name = name\n",
        "  self.role = role\n",
        "  self.earning_per_match = 0\n",
        " def get_name_team(self):\n",
        "   return 'Name: '+self.__name+', Team Name: ' +self.__team\n",
        "\n",
        "class Player(Football):\n",
        "  def __init__(self,team_name,name,role,goal,win=None):\n",
        "    super().__init__(team_name,name,role)\n",
        "    self.goal=goal\n",
        "    self.win=win\n",
        "    if self.role!='Manager':\n",
        "      self.earning_per_match=(self.goal*1000) + (self.win*10)\n",
        "    else:\n",
        "      self.earning_per_match=(self.goal*1000)\n",
        "\n",
        "\n",
        "  def calculate_ratio(self):\n",
        "    self.ratio=self.goal/self.win\n",
        "  \n",
        "  def print_details(self):\n",
        "    if self.role!='Manager':\n",
        "      print(Football.get_name_team(self))\n",
        "      print(f'Team Role: {self.role}\\nTotal goal: {self.goal}, Total played: {self.win}')\n",
        "      print('Goal Ratio:' , self.ratio)\n",
        "      print('Match Earning:', self.earning_per_match,'k')\n",
        "    else:\n",
        "      print(Football.get_name_team(self))\n",
        "      print(f'Team Role: {self.role}\\nTotal Win: {self.goal}')\n",
        "      print('Match Earning:',self.earning_per_match,'k')\n",
        "\n",
        "class Manager(Player):\n",
        "  def __init__(self,team_name,name,role,goal):\n",
        "    super().__init__(team_name,name,role,goal)\n",
        "    self.goal=goal\n",
        "\n",
        "#write your code here\n",
        "player_one = Player('Juventus', 'Ronaldo', 'Striker', 25, 32)\n",
        "player_one.calculate_ratio()\n",
        "player_one.print_details()\n",
        "print('------------------------------------------')\n",
        "manager_one = Manager('Real Madrid', 'Zidane', 'Manager', 25)\n",
        "manager_one.print_details()"
      ],
      "metadata": {
        "id": "o6EzhLO97rWC",
        "colab": {
          "base_uri": "https://localhost:8080/"
        },
        "outputId": "30588402-ee3f-4898-943c-9058dab2e236"
      },
      "execution_count": null,
      "outputs": [
        {
          "output_type": "stream",
          "name": "stdout",
          "text": [
            "Name: Ronaldo, Team Name: Juventus\n",
            "Team Role: Striker\n",
            "Total goal: 25, Total played: 32\n",
            "Goal Ratio: 0.78125\n",
            "Match Earning: 25320 k\n",
            "------------------------------------------\n",
            "Name: Zidane, Team Name: Real Madrid\n",
            "Team Role: Manager\n",
            "Total Win: 25\n",
            "Match Earning: 25000 k\n"
          ]
        }
      ]
    },
    {
      "cell_type": "code",
      "source": [
        "class Foodchai:\n",
        "  total_orders=0\n",
        "  total_price=0\n",
        "  items=[]\n",
        "  def __init__(self,*args):\n",
        "    self.name=args[0]\n",
        "    self.number=args[1]\n",
        "    self.location=args[2]\n",
        "    self.price=0\n",
        "    Foodchai.items.append(self.location)\n",
        "    print('A new location has been added')\n",
        "    Foodchai.total_orders+=1\n",
        "\n",
        "  @classmethod\n",
        "  def createUser(cls,str1,location):\n",
        "    cls.list2=str1.split('-')\n",
        "    cls.name=cls.list2[0]\n",
        "    cls.number=cls.list2[1]\n",
        "    cls.location=location\n",
        "    if cls.location not in Foodchai.items:\n",
        "      Foodchai.items.append(cls.location)\n",
        "      return('Sorry, Location not found. List Updated.')\n",
        "    else:\n",
        "      return Foodchai(cls.name,cls.number,cls.location)\n",
        "    \n",
        "  def add_Items(self,*args):\n",
        "    self.food_list=[]\n",
        "    \n",
        "    for i in args:\n",
        "      self.food_list=i.split('-')\n",
        "      self.price+=int(self.food_list[1])\n",
        "    \n",
        "  def printOrderDetail(self):\n",
        "    print(f'Buyer\\'s name:{self.name}\\nMobile no:{self.number}\\nLocation:{self.location}\\nTotal Ordered price: {self.price}')\n",
        "    Foodchai.total_price+=self.price \n",
        "  \n",
        "  @classmethod  \n",
        "  def apply_vat(cls,info):\n",
        "    info=((0.1*Foodchai.total_price)+Foodchai.total_price)\n",
        "    return f'Total order amount including 10% vat:{info}'\n",
        "\n",
        "\n",
        "\n",
        "print('Total orders=',Foodchai.total_orders)\n",
        "user1=Foodchai('Shakib','01719658xxx','Mohakhali')\n",
        "print('0============================')\n",
        "user1.add_Items('Burger-450','Coca Cola-40')\n",
        "print(Foodchai.createUser('Zahid-01719659xxx','Uttara'))\n",
        "user2=Foodchai.createUser('Zahid-01719659xxx','Uttara')\n",
        "user2.add_Items('Pizza-800')\n",
        "user3=Foodchai('Fatema','01719655xxx','Mohammadpur')\n",
        "user3.add_Items('Chicken Wings-300')\n",
        "print('1============================')\n",
        "user1.printOrderDetail()\n",
        "print('2============================')\n",
        "user2.printOrderDetail()\n",
        "print('3============================')\n",
        "user3.printOrderDetail()\n",
        "print('4============================')\n",
        "print(Foodchai.apply_vat(Foodchai.total_price))\n",
        "print('5============================')\n",
        "print('Total orders=',Foodchai.total_orders)"
      ],
      "metadata": {
        "colab": {
          "base_uri": "https://localhost:8080/"
        },
        "id": "OAQwmB2yYlcy",
        "outputId": "04d0255e-887c-4ac3-c43c-61dc03d6b298"
      },
      "execution_count": null,
      "outputs": [
        {
          "output_type": "stream",
          "name": "stdout",
          "text": [
            "Total orders= 0\n",
            "A new location has been added\n",
            "0============================\n",
            "Sorry, Location not found. List Updated.\n",
            "A new location has been added\n",
            "A new location has been added\n",
            "1============================\n",
            "Buyer's name:Shakib\n",
            "Mobile no:01719658xxx\n",
            "Location:Mohakhali\n",
            "Total Ordered price: 490\n",
            "2============================\n",
            "Buyer's name:Zahid\n",
            "Mobile no:01719659xxx\n",
            "Location:Uttara\n",
            "Total Ordered price: 800\n",
            "3============================\n",
            "Buyer's name:Fatema\n",
            "Mobile no:01719655xxx\n",
            "Location:Mohammadpur\n",
            "Total Ordered price: 300\n",
            "4============================\n",
            "Total order amount including 10% vat:1749.0\n",
            "5============================\n",
            "Total orders= 3\n"
          ]
        }
      ]
    },
    {
      "cell_type": "code",
      "source": [
        "#TASK 4\n",
        "class Product:\n",
        " def __init__(self,id, title, price):\n",
        "  self.__id = id\n",
        "  self.__title = title\n",
        "  self.__price = price\n",
        " def get_id_title_price(self):\n",
        "  return \"ID: \"+str(self.__id)+\" Title:\"+self.__title+\"Price: \"+str(self.__price)\n",
        "#write your code here\n",
        "class Book(Product):\n",
        "  def __init__(self,id,title,price,wt,publisher):\n",
        "    self.wt=wt\n",
        "    self.publisher=publisher\n",
        "    Product.__init__(self,id,title,price)\n",
        "\n",
        "  def printDetail(self):\n",
        "    return f'{Product.get_id_title_price(self)}\\nISBN: {self.wt} Publisher: {self.publisher}'\n",
        "\n",
        "\n",
        "class CD(Product):\n",
        "  def __init__(self,id,title,price,publisher,time,genre):\n",
        "    self.id=id\n",
        "    self.title=title\n",
        "    self.price=price\n",
        "    self.publisher=publisher\n",
        "    self.time=time\n",
        "    self.genre='Hard Rock'\n",
        "    Product.__init__(self,id, title, price)\n",
        "\n",
        "  def printDetail(self):\n",
        "    return f'ID: {self.id} Title: {self.title} Price: {self.price}\\nBand: {self.publisher} Duration: {self.time}minutes\\nGenre: {self.genre}'\n",
        "\n",
        "book = Book(1,\"The Alchemist\",500,\"97806\",\"HarperCollins\")\n",
        "print(book.printDetail())\n",
        "print(\"-----------------------\")\n",
        "cd = CD(2,\"Shotto\",300,\"Warfaze\",50,\"Hard Rock\")\n",
        "print(cd.printDetail())"
      ],
      "metadata": {
        "id": "8Mj14QYdpjE0",
        "colab": {
          "base_uri": "https://localhost:8080/"
        },
        "outputId": "877f7cde-4284-42e7-a18b-bb4243d6d020"
      },
      "execution_count": null,
      "outputs": [
        {
          "output_type": "stream",
          "name": "stdout",
          "text": [
            "ID: 1 Title:The AlchemistPrice: 500\n",
            "ISBN: 97806 Publisher: HarperCollins\n",
            "-----------------------\n",
            "ID: 2 Title: Shotto Price: 300\n",
            "Band: Warfaze Duration: 50minutes\n",
            "Genre: Hard Rock\n"
          ]
        }
      ]
    }
  ]
}