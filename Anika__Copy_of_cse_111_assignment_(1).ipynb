{
  "nbformat": 4,
  "nbformat_minor": 0,
  "metadata": {
    "colab": {
      "provenance": []
    },
    "kernelspec": {
      "name": "python3",
      "display_name": "Python 3"
    },
    "language_info": {
      "name": "python"
    }
  },
  "cells": [
    {
      "cell_type": "markdown",
      "source": [
        "Name- Anika Fariha\n",
        "\n",
        "\n",
        "---\n",
        "\n",
        "ID-22101305\n",
        "\n",
        "---\n",
        "\n",
        "Section-27\n",
        "\n",
        "---\n",
        "\n"
      ],
      "metadata": {
        "id": "7nLrNAhcXU1u"
      }
    },
    {
      "cell_type": "code",
      "source": [
        "from datetime import datetime\n",
        "print(datetime.now())"
      ],
      "metadata": {
        "colab": {
          "base_uri": "https://localhost:8080/"
        },
        "id": "rP4aUkSZXQKG",
        "outputId": "2cbb3c31-ee5e-4aae-88c4-c0f17c1e6b17"
      },
      "execution_count": null,
      "outputs": [
        {
          "output_type": "stream",
          "name": "stdout",
          "text": [
            "2022-09-06 17:03:59.728108\n"
          ]
        }
      ]
    },
    {
      "cell_type": "code",
      "source": [
        "def value(obj):\n",
        "  return obj.value()\n",
        "\n",
        "def print_values(*args):\n",
        "  for i in args:\n",
        "    print(f'{i.value():.2f}', end = ', ')\n",
        "  print()"
      ],
      "metadata": {
        "id": "EqeRHanIWs-o"
      },
      "execution_count": null,
      "outputs": []
    },
    {
      "cell_type": "code",
      "source": [
        "class Vector:\n",
        "  # class variables\n",
        "  __list1=[]\n",
        "  def __init__(self,x,y,z=0):\n",
        "        self.x=x\n",
        "        self.y=y\n",
        "        self.z=z\n",
        "        self.__list1.append((x,y,z))\n",
        "\n",
        "  def __neg__(self):\n",
        "      x=float(-self.x)\n",
        "      y=float(-self.y)\n",
        "      z=float(-self.z)\n",
        "      self.__list1.append((x,y,z))\n",
        "      return Vector(x,y,z)\n",
        "  def __add__(self,other):\n",
        "      self.__list1.append((self.x+other.x,self.y+other.y,self.z+other.z))\n",
        "      return Vector(self.x+other.x,self.y+other.y,self.z+other.z)\n",
        "      \n",
        "  def __sub__(self,other):\n",
        "      self.__list1.append((self.x-other.x,self.y-other.y,self.z-other.z))\n",
        "      return Vector(self.x-other.x,self.y-other.y,self.z-other.z)\n",
        "\n",
        "  def __mul__(self,other):\n",
        "      A= self.y*other.z - self.z * other.y\n",
        "      B= self.z*other.x - self.x * other.z\n",
        "      C= self.x*other.y - self.y * other.x\n",
        "      self.__list1.append((A,B,C))\n",
        "      return Vector(A,B,C)\n",
        "  \n",
        "  def is_null(self):\n",
        "    if (self.x == 0) and (self.y ==0) and (self.z == 0) :\n",
        "      return True\n",
        "    else:\n",
        "      return False  \n",
        "  \n",
        "  \n",
        "  def __str__(self):\n",
        "    return f\"({float(self.x)},{float(self.y)},{float(self.z)})\"\n",
        "  \n",
        "\n",
        "  def get_null(self):\n",
        "    \n",
        "    pass\n",
        "  \n",
        "  def from_another_vector(self,OtherV):\n",
        "    self.__list1.append((self.x+OtherV,self.y+OtherV,self.z+OtherV))\n",
        "    return Vector(self.x+OtherV,self.y+OtherV,self.z+OtherV)\n",
        "    pass\n",
        "    \n",
        "  \n",
        "  def value(self):\n",
        "    return self.magnitude()\n",
        "  \n",
        "  def magnitude(self):\n",
        "    import math\n",
        "    return pow(pow(self.x,2)+ pow(self.y,2) + pow(self.z,2),0.5)\n",
        " \n",
        "  \n",
        "  def get_str(self):\n",
        "    pass\n",
        "  \n",
        "  # TODO\n",
        "  def dot(vector1, vector2):\n",
        "    \n",
        "    return float(vector1.x * vector2.x + vector1.y * vector2.y + vector1.z * vector2.z)\n",
        "    # TODO\n",
        "    pass\n",
        "  \n",
        "  # TODO\n",
        "  def angle(vector1, vector2):\n",
        "    import math\n",
        "    return math.acos(Vector.dot(vector1,vector2) / (vector1.magnitude() * vector2.magnitude())) * 180 / math.pi\n",
        "\n",
        "  @staticmethod\n",
        "  def stats():\n",
        "    print(f'{len(Vector.__list1)} Vectors created so far: [')\n",
        "    for v in Vector.__list1:\n",
        "      print(v)\n",
        "      pass\n",
        "    print(']')"
      ],
      "metadata": {
        "id": "G3Eh_CRTWY5W"
      },
      "execution_count": null,
      "outputs": []
    },
    {
      "cell_type": "code",
      "source": [
        "v1 = Vector(4,3,-5)\n",
        "v2 = v1.from_another_vector(-1)\n",
        "print(v2)\n",
        "v3 = -v2 - v1\n",
        "print(v3)\n",
        "v4 = v2 + Vector(2,1)\n",
        "print(v4)\n",
        "v5 = v1 * v4 # vector cross product \n",
        "print(v5)\n",
        "print(datetime.now())\n"
      ],
      "metadata": {
        "colab": {
          "base_uri": "https://localhost:8080/"
        },
        "id": "bTPLla3DU2uq",
        "outputId": "db10c4d6-7328-4d71-bb38-f94620ec52f8"
      },
      "execution_count": null,
      "outputs": [
        {
          "output_type": "stream",
          "name": "stdout",
          "text": [
            "(3.0,2.0,-6.0)\n",
            "(-7.0,-5.0,11.0)\n",
            "(5.0,3.0,-6.0)\n",
            "(-3.0,-1.0,-3.0)\n",
            "2022-09-06 17:04:00.700867\n"
          ]
        }
      ]
    },
    {
      "cell_type": "code",
      "source": [
        "v6 = v4 - v4\n",
        "print(v6.is_null())\n",
        "print(datetime.now())\n"
      ],
      "metadata": {
        "colab": {
          "base_uri": "https://localhost:8080/"
        },
        "id": "iNZqj0puU6O_",
        "outputId": "891d0e41-433b-4b6c-e0f0-4d2e8040988c"
      },
      "execution_count": null,
      "outputs": [
        {
          "output_type": "stream",
          "name": "stdout",
          "text": [
            "True\n",
            "2022-09-06 17:04:00.713490\n"
          ]
        }
      ]
    },
    {
      "cell_type": "code",
      "source": [
        "vs1 = [v1,v2,v3,v4,v5,v6]\n",
        "print_values(*vs1)\n",
        "vs2 = sorted(vs1,key=value)\n",
        "print_values(*vs2)\n",
        "print(datetime.now())\n"
      ],
      "metadata": {
        "colab": {
          "base_uri": "https://localhost:8080/"
        },
        "id": "7NGtKJabU8LN",
        "outputId": "41287ef9-6e51-4ab9-fe4c-1f89e6528908"
      },
      "execution_count": null,
      "outputs": [
        {
          "output_type": "stream",
          "name": "stdout",
          "text": [
            "7.07, 7.00, 13.96, 8.37, 4.36, 0.00, \n",
            "0.00, 4.36, 7.00, 7.07, 8.37, 13.96, \n",
            "2022-09-06 17:04:00.727621\n"
          ]
        }
      ]
    },
    {
      "cell_type": "code",
      "source": [
        "print(Vector.dot(v1,v2))\n",
        "print(datetime.now())\n"
      ],
      "metadata": {
        "colab": {
          "base_uri": "https://localhost:8080/"
        },
        "id": "ZAlOsS6gU-mI",
        "outputId": "26cbce9c-8e2d-4c36-c0e7-ee2677bba597"
      },
      "execution_count": null,
      "outputs": [
        {
          "output_type": "stream",
          "name": "stdout",
          "text": [
            "48.0\n",
            "2022-09-06 17:04:00.747728\n"
          ]
        }
      ]
    },
    {
      "cell_type": "code",
      "source": [
        "class Shape:\n",
        "\n",
        "\n",
        "  def __init__(self, *args):\n",
        "   \n",
        "    pass\n",
        "  \n",
        "  def __str__(self): \n",
        "    res = '['\n",
        "    for v in self.get_sides():\n",
        "      res += str(v) + '\\n'\n",
        "    return res[:-1] + ']'\n",
        "  \n",
        "  def len(self): return None\n",
        "  def angle(self): return None\n",
        "  def area(self): return None\n",
        "  def value(self): pass\n",
        "  \n",
        "  def insert(self, typ):\n",
        "    if typ not in Shape.__map: Shape.__map[typ] = []\n",
        "    Shape.__map[typ].append(self)\n",
        "  \n",
        "  def get_sides(self):\n",
        "    return self.__side_vectors\n",
        "  \n",
        "  @classmethod\n",
        "  def get_shapes(cls, typ):\n",
        "    return Shape.__map[typ]\n",
        "  \n",
        "  @staticmethod\n",
        "  def sort(*args):\n",
        "    return sorted(args, key=value)\n",
        "\n",
        "  # TODO\n",
        "  def stats():\n",
        "    # TODO\n",
        "    pass"
      ],
      "metadata": {
        "id": "NaZ1sm0pWfPF"
      },
      "execution_count": null,
      "outputs": []
    },
    {
      "cell_type": "code",
      "source": [
        "class Line(Shape):\n",
        "  def __init__(self,i):\n",
        "    self.i=i\n",
        "    # TODO\n",
        "    #pass\n",
        "  \n",
        "  def __str__(self):\n",
        "    res = f\"Lines with side vector:\\n[{self.i}]\"\n",
        "    return res\n",
        "    # TODO\n",
        "    #pass\n",
        "  \n",
        "  def value(self):\n",
        "    return self.len()\n",
        "  \n",
        "  def get_sides(self):\n",
        "    ls1=[self.i]\n",
        "    return ls1\n",
        "  \n",
        "  def len(self):\n",
        "    return self.get_sides()[0].magnitude()\n",
        "\n",
        "  # TODO\n",
        "  def stats():\n",
        "    # TODO\n",
        "    pass"
      ],
      "metadata": {
        "id": "i3-prHKLWkXr"
      },
      "execution_count": null,
      "outputs": []
    },
    {
      "cell_type": "code",
      "source": [
        "l1 = Line(v5)\n",
        "print(l1)\n",
        "l2 = Line(v4)\n",
        "print(l2)\n",
        "l3 = Line(Vector(-2,1,5))\n",
        "print(datetime.now())\n"
      ],
      "metadata": {
        "colab": {
          "base_uri": "https://localhost:8080/"
        },
        "id": "kqKz8bsNVDD_",
        "outputId": "dcf68179-e889-4753-f3af-2b719516b370"
      },
      "execution_count": null,
      "outputs": [
        {
          "output_type": "stream",
          "name": "stdout",
          "text": [
            "Lines with side vector:\n",
            "[(-3.0,-1.0,-3.0)]\n",
            "Lines with side vector:\n",
            "[(5.0,3.0,-6.0)]\n",
            "2022-09-06 17:04:00.801448\n"
          ]
        }
      ]
    },
    {
      "cell_type": "code",
      "source": [
        "ls1 = [l1,l2,l3]\n",
        "print_values(*ls1)\n",
        "ls2 = sorted(ls1,key=value)\n",
        "print_values(*ls2)\n",
        "print(datetime.now())\n"
      ],
      "metadata": {
        "colab": {
          "base_uri": "https://localhost:8080/"
        },
        "id": "V65YBoEwVFNQ",
        "outputId": "53c73a6d-14b6-4bf3-e559-837b547448aa"
      },
      "execution_count": null,
      "outputs": [
        {
          "output_type": "stream",
          "name": "stdout",
          "text": [
            "4.36, 8.37, 5.48, \n",
            "4.36, 5.48, 8.37, \n",
            "2022-09-06 17:04:00.816979\n"
          ]
        }
      ]
    },
    {
      "cell_type": "code",
      "source": [
        "class Angle(Shape):\n",
        "  def __init__(self, *args):\n",
        "    self.a=args[0]\n",
        "    self.b=args[1]\n",
        "  \n",
        "    pass\n",
        "  \n",
        "  def __str__(self):\n",
        "    return f\"Angles with side vectors: \\n[{self.a} \\n{self.b}]\"\n",
        "    # TODO\n",
        "    pass\n",
        "  \n",
        "  def value(self):\n",
        "    return self.angle()\n",
        "  def get_sides(self):\n",
        "    list1=[self.a,self.b]\n",
        "    return list1\n",
        "  \n",
        "  \n",
        "  def angle(self):\n",
        "    import math\n",
        "    x = self.get_sides()[0]\n",
        "    y = self.get_sides()[1]\n",
        "    return math.acos(Vector.dot(x,y) / (x.magnitude() * y.magnitude())) * 180 / math.pi\n",
        "  \n",
        "  # TODO\n",
        "  def stats():\n",
        "    # TODO\n",
        "    pass"
      ],
      "metadata": {
        "id": "fC91R7OPWm1e"
      },
      "execution_count": null,
      "outputs": []
    },
    {
      "cell_type": "code",
      "source": [
        "a1 = Angle(v1,v2)\n",
        "print(a1)\n",
        "print(f'{a1.angle():.2f}')\n",
        "a2 = Angle(v3,v2)\n",
        "print(a2)\n",
        "print(f'{a2.angle():.2f}')\n",
        "a3 = Angle(v4,v5)\n",
        "print(datetime.now())\n"
      ],
      "metadata": {
        "colab": {
          "base_uri": "https://localhost:8080/"
        },
        "id": "m9xvtF1uVG01",
        "outputId": "a88fd90c-6b30-4944-f031-028ae2a0a8aa"
      },
      "execution_count": null,
      "outputs": [
        {
          "output_type": "stream",
          "name": "stdout",
          "text": [
            "Angles with side vectors: \n",
            "[(4.0,3.0,-5.0) \n",
            "(3.0,2.0,-6.0)]\n",
            "14.13\n",
            "Angles with side vectors: \n",
            "[(-7.0,-5.0,11.0) \n",
            "(3.0,2.0,-6.0)]\n",
            "172.90\n",
            "2022-09-06 17:04:00.854438\n"
          ]
        }
      ]
    },
    {
      "cell_type": "code",
      "source": [
        "as1 = [a1,a2,a3]\n",
        "print_values(*as1)\n",
        "as2 = sorted(as1,key=value)\n",
        "print_values(*as2)\n",
        "print(datetime.now())\n"
      ],
      "metadata": {
        "colab": {
          "base_uri": "https://localhost:8080/"
        },
        "id": "K0MPp69JVKlq",
        "outputId": "6e63d0b7-aa3c-4a98-9aec-77d612c1a6d9"
      },
      "execution_count": null,
      "outputs": [
        {
          "output_type": "stream",
          "name": "stdout",
          "text": [
            "14.13, 172.90, 90.00, \n",
            "14.13, 90.00, 172.90, \n",
            "2022-09-06 17:04:00.868877\n"
          ]
        }
      ]
    },
    {
      "cell_type": "code",
      "execution_count": null,
      "metadata": {
        "id": "drYxVi-hUl-O"
      },
      "outputs": [],
      "source": [
        "class Triangle(Shape):\n",
        "  def __init__(self, *args):\n",
        "    import math\n",
        "    self.a=args[0]\n",
        "    self.b=args[1]\n",
        "    self.c=args[2]\n",
        "    self.__angles=[]\n",
        "    self.__side_lengths=[]\n",
        "    for i in args:\n",
        "      self.__side_lengths.append(i.magnitude())\n",
        "    if self.__side_lengths[0]+self.__side_lengths[1]>=self.__side_lengths[2] and self.__side_lengths[0]+self.__side_lengths[2]>=self.__side_lengths[1] and self.__side_lengths[1]+self.__side_lengths[2]>=self.__side_lengths[0]:\n",
        "      self.__is_valid=True\n",
        "    else:\n",
        "      self.__is_valid=False\n",
        "    Angle1 = 180/math.pi*math.acos(((self.__side_lengths[1]**2)+(self.__side_lengths[2]**2)-(self.__side_lengths[0]**2))/(2*self.__side_lengths[1]*self.__side_lengths[2]))      \n",
        "    Angle2 = 180/math.pi*math.acos(((self.__side_lengths[2]**2)+(self.__side_lengths[0]**2)-(self.__side_lengths[1]**2))/(2*self.__side_lengths[0]*self.__side_lengths[2]))  \n",
        "    Angle3 = 180/math.pi*math.acos(((self.__side_lengths[1]**2)+(self.__side_lengths[0]**2)-(self.__side_lengths[2]**2))/(2*self.__side_lengths[1]*self.__side_lengths[0]))\n",
        "    self.__angles=[Angle1,Angle2,Angle3]\n",
        "    self.__perimeter=(sum(self.__side_lengths))/2\n",
        "    self.__area= (self.__perimeter*(self.__perimeter-self.__side_lengths[0])*(self.__perimeter-self.__side_lengths[1])*(self.__perimeter-self.__side_lengths[2]))** 0.5\n",
        "      \n",
        "  def __str__(self):\n",
        "    return f\"Triangles with side vectors \\n[{self.a} \\n{self.b} \\n{self.c}]\"\n",
        "  \n",
        "  def get_angles(self):\n",
        "    return int(self.__angles[0]*100)/100, int(self.__angles[1]*100)/100, int(self.__angles[2]*100)/100\n",
        "  \n",
        "  def get_side_lengths(self):\n",
        "    return int(self.__side_lengths[0]*100)/100, int(self.__side_lengths[1]*100)/100, int(self.__side_lengths[2]*100)/100\n",
        "  \n",
        "  def value(self):\n",
        "    return self.area()\n",
        "  \n",
        "  def area(self):\n",
        "    if self.__is_valid:\n",
        "      return self.__area\n",
        "    else:  \n",
        "      print('invalid triangle')\n",
        "    return 0.0\n",
        "  \n",
        "  def perimeter(self):\n",
        "    if self.__is_valid:\n",
        "      return self.__perimeter\n",
        "    print('invalid triangle')\n",
        "    return 0.0\n",
        "  \n",
        "  def get_type_by_angle(self):\n",
        "    if self.__is_valid:\n",
        "      if 90 in self.__angles: type_angle = 'right angle'\n",
        "      elif self.__angles[0] > 90 or self.__angles[1] > 90 or self.__angles[2] > 90:\n",
        "        type_angle = 'obtuse'\n",
        "      else: type_angle = 'acute'\n",
        "      return type_angle\n",
        "    print('invalid triangle')\n",
        "    return 0.0\n",
        "  \n",
        "  def get_type_by_side(self):\n",
        "    if self.__is_valid:\n",
        "      if self.__angles[0] == self.__angles[1] == self.__angles[2]:\n",
        "        type_side = 'equilateral'\n",
        "      elif (self.__angles[0] == self.__angles[1]) or (self.__angles[1] == self.__angles[2]) or (self.__angles[0] == self.__angles[2]): \n",
        "        type_side = 'isosceles'\n",
        "      else: type_side = 'scalene'\n",
        "      return type_side\n",
        "    print('invalid triangle')\n",
        "    return 0.0\n",
        "\n",
        "  # TODO\n",
        "  def stats():\n",
        "    # TODO\n",
        "    pass"
      ]
    },
    {
      "cell_type": "code",
      "source": [
        "t1 = Triangle(v1,v2,v3)\n",
        "print(t1)\n",
        "print(f'{t1.area():.2f}')\n",
        "print(t1.get_side_lengths())\n",
        "print(t1.get_type_by_side())\n",
        "print(t1.get_angles())\n",
        "print(t1.get_type_by_angle())\n",
        "print(datetime.now())\n"
      ],
      "metadata": {
        "colab": {
          "base_uri": "https://localhost:8080/"
        },
        "id": "45qeLP0ZVNEO",
        "outputId": "be146652-5ebe-4d29-d450-753d646c6ad1"
      },
      "execution_count": null,
      "outputs": [
        {
          "output_type": "stream",
          "name": "stdout",
          "text": [
            "Triangles with side vectors \n",
            "[(4.0,3.0,-5.0) \n",
            "(3.0,2.0,-6.0) \n",
            "(-7.0,-5.0,11.0)]\n",
            "6.04\n",
            "(7.07, 7.0, 13.96)\n",
            "scalene\n",
            "(7.1, 7.02, 165.87)\n",
            "obtuse\n",
            "2022-09-06 17:04:00.928254\n"
          ]
        }
      ]
    },
    {
      "cell_type": "code",
      "source": [
        "t2 = Triangle(v4+v5,-v5,-v4)\n",
        "print(t2)\n",
        "t3 = Triangle(v2,v4,Vector(-8,-5,12))\n",
        "print(t3.get_side_lengths())\n",
        "print(datetime.now())\n"
      ],
      "metadata": {
        "colab": {
          "base_uri": "https://localhost:8080/"
        },
        "id": "6AO-EbgMVQmL",
        "outputId": "be0a09e1-7a92-49d0-9cea-4686188a90a1"
      },
      "execution_count": null,
      "outputs": [
        {
          "output_type": "stream",
          "name": "stdout",
          "text": [
            "Triangles with side vectors \n",
            "[(2.0,2.0,-9.0) \n",
            "(3.0,1.0,3.0) \n",
            "(-5.0,-3.0,6.0)]\n",
            "(7.0, 8.36, 15.26)\n",
            "2022-09-06 17:04:00.944829\n"
          ]
        }
      ]
    },
    {
      "cell_type": "code",
      "source": [
        "ts1 = [t1,t2,t3]\n",
        "print_values(*ts1)\n",
        "ts2 = sorted(ts1,key=value)\n",
        "print_values(*ts2)\n",
        "print(datetime.now())\n"
      ],
      "metadata": {
        "colab": {
          "base_uri": "https://localhost:8080/"
        },
        "id": "0mTfgUwoVSv3",
        "outputId": "889b256d-576a-49e0-e0f6-8bd95f1c8ea0"
      },
      "execution_count": null,
      "outputs": [
        {
          "output_type": "stream",
          "name": "stdout",
          "text": [
            "6.04, 18.23, 6.73, \n",
            "6.04, 6.73, 18.23, \n",
            "2022-09-06 17:04:00.957440\n"
          ]
        }
      ]
    },
    {
      "cell_type": "code",
      "source": [
        "class RandomShape(Shape):\n",
        "  def __init__(self, *args):\n",
        "    self.__side_lengths=[]\n",
        "    self.length=len(args)\n",
        "    self.args=args\n",
        "    for i in args:\n",
        "        self.__side_lengths.append(i.magnitude())\n",
        "    self.__perimeter=sum(self.__side_lengths)\n",
        "\n",
        "  def value(self):\n",
        "    return self.__perimeter\n",
        "  \n",
        "  def __str__(self):\n",
        " \n",
        "    res='-gon with side vectors:'\n",
        "    a=f'['\n",
        "    for i in self.args:\n",
        "       a+= f'{i}\\n'\n",
        "    a=a[0:len(a)-1]  \n",
        "    a+=']'\n",
        "    return f'{self.length}{res}\\n{a}'\n",
        "  def print_n_gons(cls, n):\n",
        "    # TODO\n",
        "    pass"
      ],
      "metadata": {
        "id": "G31nvJOTWqvQ"
      },
      "execution_count": null,
      "outputs": []
    },
    {
      "cell_type": "code",
      "source": [
        "r1 = RandomShape(v1,v2,v3,v4)\n",
        "print(r1)\n",
        "r2 = RandomShape(v3,v4-v3,v5,v1,v2,v3)\n",
        "print(r2)\n",
        "print(datetime.now())\n"
      ],
      "metadata": {
        "id": "6YlBVJO9VUJx",
        "colab": {
          "base_uri": "https://localhost:8080/"
        },
        "outputId": "9de56099-b846-42f8-d5f6-c442e2c2cb3c"
      },
      "execution_count": null,
      "outputs": [
        {
          "output_type": "stream",
          "name": "stdout",
          "text": [
            "4-gon with side vectors:\n",
            "[(4.0,3.0,-5.0)\n",
            "(3.0,2.0,-6.0)\n",
            "(-7.0,-5.0,11.0)\n",
            "(5.0,3.0,-6.0)]\n",
            "6-gon with side vectors:\n",
            "[(-7.0,-5.0,11.0)\n",
            "(12.0,8.0,-17.0)\n",
            "(-3.0,-1.0,-3.0)\n",
            "(4.0,3.0,-5.0)\n",
            "(3.0,2.0,-6.0)\n",
            "(-7.0,-5.0,11.0)]\n",
            "2022-09-06 17:04:01.000254\n"
          ]
        }
      ]
    },
    {
      "cell_type": "code",
      "source": [
        "rs1 = [r2,r1]\n",
        "print_values(*rs1)\n",
        "rs2 = sorted(rs1,key=value)\n",
        "print_values(*rs2)\n",
        "print(datetime.now())\n"
      ],
      "metadata": {
        "id": "OUHBR3P_VW64",
        "colab": {
          "base_uri": "https://localhost:8080/"
        },
        "outputId": "9f9ad483-bc8c-4b2c-fe69-f24215b5dd9a"
      },
      "execution_count": null,
      "outputs": [
        {
          "output_type": "stream",
          "name": "stdout",
          "text": [
            "68.65, 36.40, \n",
            "36.40, 68.65, \n",
            "2022-09-06 17:04:01.011812\n"
          ]
        }
      ]
    },
    {
      "cell_type": "code",
      "source": [
        "shapes = [*vs1[1:4], *ls1, *as1, *ts1, *rs1]\n",
        "print_values(*shapes)\n",
        "shapes = sorted(shapes,key=value)\n",
        "print_values(*shapes)\n",
        "print(datetime.now())\n"
      ],
      "metadata": {
        "id": "X-n_ZsoyVYZ1",
        "colab": {
          "base_uri": "https://localhost:8080/"
        },
        "outputId": "9be8f05d-8b2d-4d9d-d87e-ff64542e4352"
      },
      "execution_count": null,
      "outputs": [
        {
          "output_type": "stream",
          "name": "stdout",
          "text": [
            "7.00, 13.96, 8.37, 4.36, 8.37, 5.48, 14.13, 172.90, 90.00, 6.04, 18.23, 6.73, 68.65, 36.40, \n",
            "4.36, 5.48, 6.04, 6.73, 7.00, 8.37, 8.37, 13.96, 14.13, 18.23, 36.40, 68.65, 90.00, 172.90, \n",
            "2022-09-06 17:04:01.030380\n"
          ]
        }
      ]
    },
    {
      "cell_type": "code",
      "source": [
        "Vector.stats()\n",
        "print(datetime.now())\n"
      ],
      "metadata": {
        "id": "X9iNg5RpVdob",
        "colab": {
          "base_uri": "https://localhost:8080/"
        },
        "outputId": "c57b52e5-4c69-41d3-f1e4-be46b2194d37"
      },
      "execution_count": null,
      "outputs": [
        {
          "output_type": "stream",
          "name": "stdout",
          "text": [
            "24 Vectors created so far: [\n",
            "(4, 3, -5)\n",
            "(3, 2, -6)\n",
            "(3, 2, -6)\n",
            "(-3.0, -2.0, 6.0)\n",
            "(-3.0, -2.0, 6.0)\n",
            "(-7.0, -5.0, 11.0)\n",
            "(-7.0, -5.0, 11.0)\n",
            "(2, 1, 0)\n",
            "(5, 3, -6)\n",
            "(5, 3, -6)\n",
            "(-3, -1, -3)\n",
            "(-3, -1, -3)\n",
            "(0, 0, 0)\n",
            "(0, 0, 0)\n",
            "(-2, 1, 5)\n",
            "(2, 2, -9)\n",
            "(2, 2, -9)\n",
            "(3.0, 1.0, 3.0)\n",
            "(3.0, 1.0, 3.0)\n",
            "(-5.0, -3.0, 6.0)\n",
            "(-5.0, -3.0, 6.0)\n",
            "(-8, -5, 12)\n",
            "(12.0, 8.0, -17.0)\n",
            "(12.0, 8.0, -17.0)\n",
            "]\n",
            "2022-09-06 17:04:01.040244\n"
          ]
        }
      ]
    },
    {
      "cell_type": "code",
      "source": [
        "Shape.stats()\n",
        "print(datetime.now())\n"
      ],
      "metadata": {
        "id": "_QAbInQzVfmy",
        "colab": {
          "base_uri": "https://localhost:8080/"
        },
        "outputId": "84f8cf6e-bcaa-46e2-fab8-7691aead6761"
      },
      "execution_count": null,
      "outputs": [
        {
          "output_type": "stream",
          "name": "stdout",
          "text": [
            "2022-09-06 17:04:01.056573\n"
          ]
        }
      ]
    },
    {
      "cell_type": "code",
      "source": [
        "Line.stats()\n",
        "print(datetime.now())\n"
      ],
      "metadata": {
        "id": "Dc74ax2wVhQH",
        "colab": {
          "base_uri": "https://localhost:8080/"
        },
        "outputId": "92fe39be-7176-4c19-f24b-251aadefe82c"
      },
      "execution_count": null,
      "outputs": [
        {
          "output_type": "stream",
          "name": "stdout",
          "text": [
            "2022-09-06 17:04:01.072719\n"
          ]
        }
      ]
    },
    {
      "cell_type": "code",
      "source": [
        "Angle.stats()\n",
        "print(datetime.now())\n"
      ],
      "metadata": {
        "id": "x_NYA5uAVj-w",
        "colab": {
          "base_uri": "https://localhost:8080/"
        },
        "outputId": "21a55cdd-a33a-4d01-d39d-c6520d958362"
      },
      "execution_count": null,
      "outputs": [
        {
          "output_type": "stream",
          "name": "stdout",
          "text": [
            "2022-09-06 17:04:01.083064\n"
          ]
        }
      ]
    },
    {
      "cell_type": "code",
      "source": [
        "Triangle.stats()\n",
        "print(datetime.now())\n"
      ],
      "metadata": {
        "id": "4a4MRvG5Vmiq",
        "colab": {
          "base_uri": "https://localhost:8080/"
        },
        "outputId": "6a56c589-ad71-4363-e25c-fdf20abc2eff"
      },
      "execution_count": null,
      "outputs": [
        {
          "output_type": "stream",
          "name": "stdout",
          "text": [
            "2022-09-06 17:04:01.093858\n"
          ]
        }
      ]
    },
    {
      "cell_type": "code",
      "source": [
        "RandomShape.stats()\n",
        "print(datetime.now())\n"
      ],
      "metadata": {
        "id": "kLZi7L6KUzrW",
        "colab": {
          "base_uri": "https://localhost:8080/"
        },
        "outputId": "b0b6b3ef-a79e-4474-bcc2-c2af6dd286b8"
      },
      "execution_count": null,
      "outputs": [
        {
          "output_type": "stream",
          "name": "stdout",
          "text": [
            "2022-09-06 17:04:01.104794\n"
          ]
        }
      ]
    }
  ]
}