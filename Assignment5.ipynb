{
  "nbformat": 4,
  "nbformat_minor": 0,
  "metadata": {
    "colab": {
      "provenance": []
    },
    "kernelspec": {
      "name": "python3",
      "display_name": "Python 3"
    },
    "language_info": {
      "name": "python"
    }
  },
  "cells": [
    {
      "cell_type": "code",
      "execution_count": null,
      "metadata": {
        "id": "1V7EnfZwW05T",
        "colab": {
          "base_uri": "https://localhost:8080/"
        },
        "outputId": "abc80935-cdad-48a2-8878-65a869a98d76"
      },
      "outputs": [
        {
          "output_type": "stream",
          "name": "stdout",
          "text": [
            "Quiz 1 (out of 10): 1\n",
            "Quiz 2 (out of 10): 1\n",
            "Lab (out of 30): 1\n",
            "Mid (out of 20): 1\n",
            "Final (out of 30): 1\n",
            "Total marks: 5\n"
          ]
        }
      ],
      "source": [
        "#Task 1\n",
        "class Marks:\n",
        "  def __init__(self,mark):\n",
        "    self.mark=mark\n",
        "\n",
        "  def __add__(self,other):\n",
        "    return Marks(self.mark + other.mark)\n",
        "\n",
        "Q1 = Marks(int(input(\"Quiz 1 (out of 10): \")))\n",
        "Q2 = Marks(int(input(\"Quiz 2 (out of 10): \")))\n",
        "Lab = Marks(int(input(\"Lab (out of 30): \")))\n",
        "Mid = Marks(int(input(\"Mid (out of 20): \")))\n",
        "Final = Marks(int(input(\"Final (out of 30): \")))\n",
        "total = Q1 + Q2 + Lab + Mid + Final\n",
        "print(\"Total marks: {}\".format(total.mark))"
      ]
    },
    {
      "cell_type": "code",
      "source": [
        "#Task 2\n",
        "class Teacher:\n",
        "  def __init__(self,name,dept):\n",
        "    self.__name=name\n",
        "    self.__dept=dept\n",
        "    self.__l1=[]\n",
        "\n",
        "\n",
        "  def addCourse(self,c):\n",
        "    self.__l1.append(c.course)\n",
        "\n",
        "  def printDetail(self):\n",
        "    print('====================================')\n",
        "    print(f'Name: {self.__name} \\nDepartment:{self.__dept} \\nList of courses')\n",
        "    print('====================================')\n",
        "    for i in self.__l1:\n",
        "      print(i)\n",
        "    print('====================================') \n",
        "\n",
        "class Course:\n",
        "  def __init__(self,courses):\n",
        "    self.course=courses\n",
        "\n",
        "t1 = Teacher(\"Saad Abdullah\", \"CSE\")\n",
        "t2 = Teacher(\"Mumit Khan\", \"CSE\")\n",
        "t3 = Teacher(\"Sadia Kazi\", \"CSE\")\n",
        "c1 = Course(\"CSE 110 Programming Language I\")\n",
        "c2 = Course(\"CSE 111 Programming Language-II\")\n",
        "c3 = Course(\"CSE 220 Data Structures\")\n",
        "c4 = Course(\"CSE 221 Algorithms\")\n",
        "c5 = Course(\"CSE 230 Discrete Mathematics\")\n",
        "c6 = Course(\"CSE 310 Object Oriented Programming\")\n",
        "c7 = Course(\"CSE 320 Data Communications\")\n",
        "c8 = Course(\"CSE 340 Computer Architecture\")\n",
        "t1.addCourse(c1)\n",
        "t1.addCourse(c2)\n",
        "t2.addCourse(c3)\n",
        "t2.addCourse(c4)\n",
        "t2.addCourse(c5)\n",
        "t3.addCourse(c6)\n",
        "t3.addCourse(c7)\n",
        "t3.addCourse(c8)\n",
        "t1.printDetail()\n",
        "t2.printDetail()\n",
        "t3.printDetail()"
      ],
      "metadata": {
        "colab": {
          "base_uri": "https://localhost:8080/"
        },
        "id": "AzkHhLyu1JZf",
        "outputId": "2a1057b0-1988-467f-f736-2fb58247f4f1"
      },
      "execution_count": null,
      "outputs": [
        {
          "output_type": "stream",
          "name": "stdout",
          "text": [
            "====================================\n",
            "Name: Saad Abdullah \n",
            "Department:CSE \n",
            "List of courses\n",
            "====================================\n",
            "CSE 110 Programming Language I\n",
            "CSE 111 Programming Language-II\n",
            "====================================\n",
            "====================================\n",
            "Name: Mumit Khan \n",
            "Department:CSE \n",
            "List of courses\n",
            "====================================\n",
            "CSE 220 Data Structures\n",
            "CSE 221 Algorithms\n",
            "CSE 230 Discrete Mathematics\n",
            "====================================\n",
            "====================================\n",
            "Name: Sadia Kazi \n",
            "Department:CSE \n",
            "List of courses\n",
            "====================================\n",
            "CSE 310 Object Oriented Programming\n",
            "CSE 320 Data Communications\n",
            "CSE 340 Computer Architecture\n",
            "====================================\n"
          ]
        }
      ]
    },
    {
      "cell_type": "code",
      "source": [
        "#Task 3\n",
        "class Team:\n",
        "  def __init__(self,name=None):\n",
        "    self.country=name\n",
        "    self.l1=[]\n",
        "  \n",
        "  def setName(self,country):\n",
        "    self.country=country\n",
        "  \n",
        "  def addPlayer(self,secondclass_obj):\n",
        "    self.l1.append(secondclass_obj.player)\n",
        "  \n",
        "  def printDetail(self):\n",
        "    print('=====================')\n",
        "    print(f'Team:{self.country}\\nList of Players:{self.l1}')\n",
        "    print('=====================')\n",
        "class Player:\n",
        "  def __init__(self,name):\n",
        "    self.player=name\n",
        "\n",
        "b = Team()\n",
        "b.setName('Bangladesh')\n",
        "mashrafi = Player(\"Mashrafi\")\n",
        "b.addPlayer(mashrafi)\n",
        "tamim = Player(\"Tamim\")\n",
        "b.addPlayer(tamim)\n",
        "b.printDetail()\n",
        "a = Team(\"Australia\")\n",
        "ponting = Player(\"Ponting\")\n",
        "a.addPlayer(ponting)\n",
        "lee = Player(\"Lee\")\n",
        "a.addPlayer(lee)\n",
        "a.printDetail()"
      ],
      "metadata": {
        "colab": {
          "base_uri": "https://localhost:8080/"
        },
        "id": "kMQTKvlh9sf8",
        "outputId": "252020d0-074e-4b86-a65f-a2fb0ff57734"
      },
      "execution_count": null,
      "outputs": [
        {
          "output_type": "stream",
          "name": "stdout",
          "text": [
            "=====================\n",
            "Team:Bangladesh\n",
            "List of Players:['Mashrafi', 'Tamim']\n",
            "=====================\n",
            "=====================\n",
            "Team:Australia\n",
            "List of Players:['Ponting', 'Lee']\n",
            "=====================\n"
          ]
        }
      ]
    },
    {
      "cell_type": "code",
      "source": [
        "#Task 4\n",
        "class Color:\n",
        "  def __init__(self,clr):\n",
        "    self.clr=clr\n",
        "    self.clr1=''\n",
        "  \n",
        "  def __add__(self,other):\n",
        "    self.clr1=self.clr+other.clr\n",
        "    if self.clr1=='yellowred' or self.clr1=='redyellow':\n",
        "      return Color('orange')\n",
        "    elif self.clr1=='yellowblue' or self.clr1=='blueyellow':\n",
        "      return Color('Green')\n",
        "    elif self.clr1=='bluered' or self.clr1=='redblue':\n",
        "      return Color('Violet')\n",
        "\n",
        "C1 = Color(input(\"First Color: \").lower())\n",
        "C2 = Color(input(\"Second Color: \").lower())\n",
        "C3 = C1 + C2\n",
        "print(\"Color formed:\", C3.clr)"
      ],
      "metadata": {
        "colab": {
          "base_uri": "https://localhost:8080/"
        },
        "id": "65wo7yigN-uS",
        "outputId": "3596f70c-9d62-4be9-e1e4-0dc6f2060ee6"
      },
      "execution_count": null,
      "outputs": [
        {
          "output_type": "stream",
          "name": "stdout",
          "text": [
            "First Color: yellow\n",
            "Second Color: red\n",
            "Color formed: orange\n"
          ]
        }
      ]
    },
    {
      "cell_type": "code",
      "source": [
        "#Task 5\n",
        "class Circle:\n",
        "  def __init__(self,radius):\n",
        "    self.radius=radius\n",
        "    \n",
        "  def getRadius(self):\n",
        "    return self.radius\n",
        "  \n",
        "  def area(self):\n",
        "    import math\n",
        "    return (math.pi*self.radius**2)\n",
        "  \n",
        "  def __add__(self,other):\n",
        "    return Circle(self.radius+other.radius)\n",
        "\n",
        "\n",
        "c1 = Circle(4)\n",
        "print(\"First circle radius:\" , c1.getRadius())\n",
        "print(\"First circle area:\" ,c1.area())\n",
        "c2 = Circle(5)\n",
        "print(\"Second circle radius:\" ,c2.getRadius())\n",
        "print(\"Second circle area:\" ,c2.area())\n",
        "c3 = c1 + c2\n",
        "print(\"Third circle radius:\" ,c3.getRadius())\n",
        "print(\"Third circle area:\" ,c3.area())"
      ],
      "metadata": {
        "colab": {
          "base_uri": "https://localhost:8080/"
        },
        "id": "Q1MqG0uAOoGI",
        "outputId": "fe4b8fbe-bf83-4676-858d-8492ace377fb"
      },
      "execution_count": null,
      "outputs": [
        {
          "output_type": "stream",
          "name": "stdout",
          "text": [
            "First circle radius: 4\n",
            "First circle area: 50.26548245743669\n",
            "Second circle radius: 5\n",
            "Second circle area: 78.53981633974483\n",
            "Third circle radius: 9\n",
            "Third circle area: 254.46900494077323\n"
          ]
        }
      ]
    },
    {
      "cell_type": "code",
      "source": [
        "#TASK 6\n",
        "class Triangle:\n",
        "  def __init__(self,x,y=None):\n",
        "    self.base=x\n",
        "    self.height=y\n",
        "  \n",
        "  def getBase(self):\n",
        "    return self.base\n",
        "  \n",
        "  def getHeight(self):\n",
        "    return self.height\n",
        "\n",
        "  def area(self):\n",
        "    area = (self.base*self.height)/2\n",
        "    return area\n",
        "\n",
        "  def __sub__(self,other):\n",
        "    x = self.base - other.base\n",
        "    y = self.height - other.height\n",
        "    return Triangle(x,y)\n",
        "\n",
        "t1 = Triangle(10, 5)\n",
        "print(\"First Triangle Base:\" , t1.getBase())\n",
        "print(\"First Triangle Height:\" , t1.getHeight())\n",
        "print(\"First Triangle area:\" ,t1.area())\n",
        "t2 = Triangle(5, 3)\n",
        "print(\"Second Triangle Base:\" , t2.getBase())\n",
        "print(\"Second Triangle Height:\" , t2.getHeight())\n",
        "print(\"Second Triangle area:\" ,t2.area())\n",
        "t3 = t1 - t2\n",
        "print(\"Third Triangle Base:\" , t3.getBase())\n",
        "print(\"Third Triangle Height:\" , t3.getHeight())\n",
        "print(\"Third Triangle area:\" ,t3.area()) "
      ],
      "metadata": {
        "colab": {
          "base_uri": "https://localhost:8080/"
        },
        "id": "ZtGBSL_jVqyR",
        "outputId": "1347691b-261f-4514-de6f-85d8e140c4b9"
      },
      "execution_count": null,
      "outputs": [
        {
          "output_type": "stream",
          "name": "stdout",
          "text": [
            "First Triangle Base: 10\n",
            "First Triangle Height: 5\n",
            "First Triangle area: 25.0\n",
            "Second Triangle Base: 5\n",
            "Second Triangle Height: 3\n",
            "Second Triangle area: 7.5\n",
            "Third Triangle Base: 5\n",
            "Third Triangle Height: 2\n",
            "Third Triangle area: 5.0\n"
          ]
        }
      ]
    },
    {
      "cell_type": "code",
      "source": [
        "#Task 7\n",
        "class Dolls:\n",
        "  def __init__(self,name,price):\n",
        "    self.name=name\n",
        "    self.price=price\n",
        "\n",
        "  def __gt__(self,other):\n",
        "    if self.price>other.price:\n",
        "      return True\n",
        "    else:\n",
        "      return False\n",
        "     \n",
        "  def detail(self):\n",
        "    return(f'Doll:{self.name} \\nTotally: {self.price}')\n",
        "\n",
        "  def __add__(self,other):\n",
        "     x=self.name +' '+ other.name\n",
        "     y=self.price + other.price\n",
        "     return Dolls(x,y)\n",
        "\n",
        "obj_1 = Dolls(\"Tweety\", 2500)\n",
        "print(obj_1.detail())\n",
        "if obj_1 > obj_1:\n",
        " print(\"Congratulations! You get the Tweety as a gift!\")\n",
        "else:\n",
        " print(\"Thank you!\")\n",
        "print(\"=========================\")\n",
        "obj_2 = Dolls(\"Daffy Duck\", 1800)\n",
        "print(obj_2.detail())\n",
        "if obj_2 > obj_1:\n",
        " print(\"Congratulations! You get the Tweety as a gift!\")\n",
        "else:\n",
        " print(\"Thank you!\")\n",
        "print(\"=========================\")\n",
        "obj_3 = Dolls(\"Bugs Bunny\", 3000)\n",
        "print(obj_3.detail())\n",
        "if obj_3 > obj_1:\n",
        " print(\"Congratulations! You get the Tweety as a gift!\")\n",
        "else:\n",
        " print(\"Thank you!\")\n",
        "print(\"=========================\")\n",
        "obj_4 = Dolls(\"Porky Pig\", 1500)\n",
        "print(obj_4.detail())\n",
        "if obj_4 > obj_1:\n",
        " print(\"Congratulations! You get the Tweety as a gift!\")\n",
        "else:\n",
        " print(\"Thank you!\")\n",
        "print(\"=========================\")\n",
        "obj_5 = obj_2 + obj_3\n",
        "print(obj_5.detail())\n",
        "if obj_5 > obj_1:\n",
        " print(\"Congratulations! You get the Tweety as a gift!\")\n",
        "else:\n",
        " print(\"Thank you!\")"
      ],
      "metadata": {
        "colab": {
          "base_uri": "https://localhost:8080/"
        },
        "id": "sQIrrraADg3v",
        "outputId": "53e71d11-aa47-4d8e-873b-875e5ac4b7c7"
      },
      "execution_count": null,
      "outputs": [
        {
          "output_type": "stream",
          "name": "stdout",
          "text": [
            "Doll:Tweety \n",
            "Totally: 2500\n",
            "Thank you!\n",
            "=========================\n",
            "Doll:Daffy Duck \n",
            "Totally: 1800\n",
            "Thank you!\n",
            "=========================\n",
            "Doll:Bugs Bunny \n",
            "Totally: 3000\n",
            "Congratulations! You get the Tweety as a gift!\n",
            "=========================\n",
            "Doll:Porky Pig \n",
            "Totally: 1500\n",
            "Thank you!\n",
            "=========================\n",
            "Doll:Daffy Duck Bugs Bunny \n",
            "Totally: 4800\n",
            "Congratulations! You get the Tweety as a gift!\n"
          ]
        }
      ]
    },
    {
      "cell_type": "code",
      "source": [
        "#Task 8\n",
        "class Coordinates:\n",
        "  def __init__(self,x,y):\n",
        "    self.x=x\n",
        "    self.y=y\n",
        "\n",
        "  def __sub__(self,other):\n",
        "    x=self.x - other.x\n",
        "    y=self.y - other.y\n",
        "    return Coordinates(x,y)\n",
        "  \n",
        "  def detail(self):\n",
        "    return f'({self.x},{self.y})'\n",
        "\n",
        "  def __mul__(self,other):\n",
        "    x = self.x*other.x\n",
        "    y = self.y*other.y\n",
        "    return Coordinates(x,y)\n",
        "  \n",
        "  def __eq__(self,other): \n",
        "    if self.x==other.x and self.y==other.y:\n",
        "      return(f'The calculated coordinates are the same')\n",
        "    else:\n",
        "      return(f'The calculated coordinates are not the same')\n",
        "\n",
        "p1 = Coordinates(int(input()),int(input()))\n",
        "p2 = Coordinates(int(input()),int(input()))\n",
        "p4 = p1 - p2\n",
        "print(p4.detail())\n",
        "p5 = p1 * p2\n",
        "print(p5.detail())\n",
        "point_check = (p4 == p5)\n",
        "print(point_check)"
      ],
      "metadata": {
        "id": "c6zQbW57bXJ-"
      },
      "execution_count": null,
      "outputs": []
    },
    {
      "cell_type": "code",
      "source": [],
      "metadata": {
        "id": "-PgbZE7RwgzQ"
      },
      "execution_count": null,
      "outputs": []
    }
  ]
}