{
 "cells": [
  {
   "cell_type": "code",
   "execution_count": 5,
   "id": "f6aef5e8",
   "metadata": {},
   "outputs": [
    {
     "name": "stdout",
     "output_type": "stream",
     "text": [
      "9\n",
      "Odd!\n"
     ]
    }
   ],
   "source": [
    "#Task 1\n",
    "def even_odd():\n",
    "    n=int(input())\n",
    "    if n%2==0:\n",
    "        print('Even!')\n",
    "    else:\n",
    "        print('Odd!')\n",
    "even_odd()"
   ]
  },
  {
   "cell_type": "code",
   "execution_count": 6,
   "id": "71ea1c1e",
   "metadata": {},
   "outputs": [
    {
     "name": "stdout",
     "output_type": "stream",
     "text": [
      "0 1 1 2 3 5 8 "
     ]
    }
   ],
   "source": [
    "def fib_nacchi():\n",
    "    a=0\n",
    "    b=1\n",
    "    c=a+b\n",
    "    n=int(input())\n",
    "    print(a,end=' ')\n",
    "    print(b,end=' ')\n",
    "    while c<(n-1):\n",
    "        c=a+b\n",
    "        a=b\n",
    "        b=c\n",
    "        print(c,end=' ')\n",
    "fib_nacchi()"
   ]
  },
  {
   "cell_type": "code",
   "execution_count": null,
   "id": "c1982231",
   "metadata": {},
   "outputs": [],
   "source": []
  },
  {
   "cell_type": "code",
   "execution_count": 13,
   "id": "1fc085a0",
   "metadata": {},
   "outputs": [
    {
     "name": "stdout",
     "output_type": "stream",
     "text": [
      "0 1 1 2 3 5 "
     ]
    }
   ],
   "source": [
    "#Task 2\n",
    "def fibonacci(Limit):\n",
    "    number1 = 0\n",
    "    number2 = 1\n",
    "    print(number1, end=\" \")\n",
    "    while  number2 <= Limit:\n",
    "        print(number2, end = \" \")\n",
    "        temporary = number1\n",
    "        number1 = number2\n",
    "        number2 = temporary + number2\n",
    "fibonacci(7)"
   ]
  },
  {
   "cell_type": "code",
   "execution_count": 14,
   "id": "97721ca2",
   "metadata": {},
   "outputs": [
    {
     "name": "stdout",
     "output_type": "stream",
     "text": [
      "Boo\n"
     ]
    }
   ],
   "source": [
    "#task 3\n",
    "def FooMoo(n):\n",
    "    if n/2==0 and n/3==0:\n",
    "        print('FooMoo')\n",
    "    elif n/3==0:\n",
    "        print('Moo')\n",
    "    elif n/2==0:\n",
    "        print('Foo')\n",
    "    else:\n",
    "        print('Boo')\n",
    "FooMoo(10)"
   ]
  },
  {
   "cell_type": "code",
   "execution_count": 26,
   "id": "98547a4e",
   "metadata": {},
   "outputs": [
    {
     "name": "stdout",
     "output_type": "stream",
     "text": [
      "madara IS WEaK\n",
      "madaraISWEaK\n",
      "No. of Upper case characther is 5\n",
      "No. of Lower case characther is 7\n"
     ]
    }
   ],
   "source": [
    "#Task 4\n",
    "def function():\n",
    "    UC=0\n",
    "    LC=0\n",
    "    n=input()\n",
    "    n=n.replace(' ','')\n",
    "    print(n)\n",
    "    for m in n: \n",
    "        if ord(m)>=65 and ord(m)<=90:\n",
    "            UC+=1\n",
    "        elif ord(m)>=97 and ord(m)<=122:\n",
    "            LC+=1\n",
    "    print('No. of Upper case characther is', UC)\n",
    "    print('No. of Lower case characther is', LC)\n",
    "function()"
   ]
  },
  {
   "cell_type": "code",
   "execution_count": 12,
   "id": "84316e98",
   "metadata": {},
   "outputs": [
    {
     "name": "stdout",
     "output_type": "stream",
     "text": [
      "Your Age:18\n",
      "Your salary:15000\n",
      "Your Occupation:ganjakhor\n",
      "750.0\n"
     ]
    }
   ],
   "source": [
    "#Task 5\n",
    "a=int(input('Your Age:'))\n",
    "s=int(input('Your salary:'))\n",
    "o=input('Your Occupation:')\n",
    "def calculate_tax(a,s,o):\n",
    "    o=o.lower()\n",
    "    if o=='president'or a<18 or s<10000:\n",
    "        print('0')\n",
    "    elif 10000>=s or s<20000:\n",
    "        print(.05*s)\n",
    "    else:\n",
    "        print(.1*s)\n",
    "calculate_tax(a,s,o)  "
   ]
  },
  {
   "cell_type": "code",
   "execution_count": 18,
   "id": "d16b12a9",
   "metadata": {},
   "outputs": [
    {
     "name": "stdout",
     "output_type": "stream",
     "text": [
      "Enter the number of days:2000\n",
      "5 years   5 month   and 25 days\n"
     ]
    }
   ],
   "source": [
    "#Task 6\n",
    "def the_ymd(d):\n",
    "    d=int(input('Enter the number of days:'))\n",
    "    y=d//365\n",
    "    k=d%365\n",
    "    m=k//30\n",
    "    da=k%30\n",
    "    print(y,'years',' ',m,'month',' ','and',da,'days')\n",
    "the_ymd(d)"
   ]
  },
  {
   "cell_type": "code",
   "execution_count": 2,
   "id": "2601536b",
   "metadata": {},
   "outputs": [
    {
     "name": "stdout",
     "output_type": "stream",
     "text": [
      "5\n",
      "1 2 3 4 5 4 3 2 1 "
     ]
    }
   ],
   "source": [
    "#Task 7\n",
    "def show_palindrome(n):\n",
    "    n=int(input())\n",
    "    a=1\n",
    "    while a<=n:\n",
    "        print(a, end=\" \")\n",
    "        a+=1\n",
    "    c=n-1\n",
    "    while c>0:\n",
    "        print(c,end=\" \")\n",
    "        c=c-1\n",
    "show_palindrome(n)"
   ]
  },
  {
   "cell_type": "code",
   "execution_count": 4,
   "id": "c24b0cdf",
   "metadata": {},
   "outputs": [
    {
     "name": "stdout",
     "output_type": "stream",
     "text": [
      "8\n",
      "1 1 2 3 5 8 "
     ]
    }
   ],
   "source": [
    "#Task 2\n",
    "n=int(input())\n",
    "a=0\n",
    "b=1\n",
    "if n==1:\n",
    "    print(a,end=' ')\n",
    "    print(b,end=' ')\n",
    "while b<=n:\n",
    "    print(b,end=' ')\n",
    "    c=a\n",
    "    c=a+b\n",
    "    a=b\n",
    "    b=c"
   ]
  },
  {
   "cell_type": "code",
   "execution_count": 9,
   "id": "316d97a4",
   "metadata": {},
   "outputs": [
    {
     "name": "stdout",
     "output_type": "stream",
     "text": [
      "Area of the circle is 28.274333882308138 and circumference is  18.84955592153876\n"
     ]
    }
   ],
   "source": [
    "#Task 9\n",
    "#tup=(1,2,3,4,5)\n",
    "import math\n",
    "def area_circumference_generator(r):\n",
    "    area=math.pi*(r*r)\n",
    "    cir=2*math.pi*r\n",
    "    tup=(area,cir)\n",
    "    a,b=tup\n",
    "    print('Area of the circle is',a,'and circumference is ',b)\n",
    "area_circumference_generator(3)"
   ]
  },
  {
   "cell_type": "code",
   "execution_count": 3,
   "id": "603cb5f7",
   "metadata": {},
   "outputs": [
    {
     "name": "stdout",
     "output_type": "stream",
     "text": [
      "12345\n",
      "{1: 1, 2: 4, 3: 9, 4: 16, 5: 25}\n"
     ]
    }
   ],
   "source": [
    "#Task 10\n",
    "tup=tuple(input())\n",
    "def make_square(tup):\n",
    "    a=int(tup[0])\n",
    "    b=int(tup[len(tup)-1])\n",
    "    dic1={}\n",
    "    for i in range(a,b+1):\n",
    "        dic1.update({i:i*i})\n",
    "    print(dic1)\n",
    "make_square(tup)"
   ]
  },
  {
   "cell_type": "code",
   "execution_count": 41,
   "id": "3a27d228",
   "metadata": {},
   "outputs": [],
   "source": [
    "#dic1.update({a:b})\n",
    " #dic1[i]=i*i"
   ]
  },
  {
   "cell_type": "code",
   "execution_count": 15,
   "id": "ab26a084",
   "metadata": {},
   "outputs": [
    {
     "name": "stdout",
     "output_type": "stream",
     "text": [
      "Enter The Tuple:(1,2,4,4,3,5,6,6,7)\n",
      "('1', '2', '4', '3', '5', '6', '7')\n"
     ]
    }
   ],
   "source": [
    "#Task 11\n",
    "def rem_duplicate(tup1): \n",
    "    tup1=input('Enter The Tuple:')\n",
    "    a=tup1[1:(len(tup1)-1)]\n",
    "    l=a.split(',')\n",
    "    l1=[]\n",
    "    for i in l:\n",
    "        if i not in l1:\n",
    "            l1.append(i)\n",
    "            tup2=tuple(l1)\n",
    "    print(tup2)\n",
    "rem_duplicate(tup1)"
   ]
  },
  {
   "cell_type": "code",
   "execution_count": 24,
   "id": "d37fda4c",
   "metadata": {},
   "outputs": [
    {
     "name": "stdout",
     "output_type": "stream",
     "text": [
      "Enter The List :[1,2,3,3,3,4,5]\n",
      "Removed 1\n",
      "['1', '2', '3', '3', '3', '4', '5']\n"
     ]
    }
   ],
   "source": [
    "#Task 12\n",
    "def functin_name(l):\n",
    "l= (input('Enter The List :'))\n",
    "l1=l[1:(len(l)-1)]\n",
    "l2=l1.split(',')\n",
    "list_name=[]\n",
    "c=0\n",
    "for i in l2:\n",
    "    if l2.count(i)>2:\n",
    "        c+=1\n",
    "for i in l2:\n",
    "    if list_name.count(i)<3:\n",
    "        list_name.append(i)\n",
    "if c==0:\n",
    "    print('Removed',c)\n",
    "else:\n",
    "    print('Removed',(c-2))\n",
    "print(list_name)\n",
    "function_name(l)"
   ]
  },
  {
   "cell_type": "code",
   "execution_count": null,
   "id": "37e7196d",
   "metadata": {},
   "outputs": [],
   "source": [
    "#Task 13\n",
    "oper=input()\n",
    "n1=float(input())\n",
    "n2=float(input())\n",
    "def addition(n1,n2):\n",
    "    return (n1+n2)\n",
    "def function_parameters(oper,n1,n2):\n",
    "    if oper=='+':\n",
    "        print(addition(n1,n2))\n",
    "function_parameters(oper,n1,n2)"
   ]
  },
  {
   "cell_type": "code",
   "execution_count": null,
   "id": "5b8a5055",
   "metadata": {},
   "outputs": [],
   "source": [
    "#Task 13\n",
    "oper=input()\n",
    "n1=float(input())\n",
    "n2=float(input())\n",
    "def addition(x,y):\n",
    "    return (x+y)\n",
    "def subtraction(x,y):\n",
    "    return(x-y)\n",
    "def multiplication(x,y):\n",
    "    return(x*y)\n",
    "def division(x,y):\n",
    "    return(x/y)\n",
    "def function_parameters(oper,n1,n2):\n",
    "    if oper=='+':\n",
    "        print(addition(n1,n2))\n",
    "    if oper=='-':\n",
    "        print(subtraction(n1,n2))\n",
    "    if oper=='*':\n",
    "        print(multiplication(n1,n2))\n",
    "    if oper=='/':\n",
    "        print(division(n1,n2))\n",
    "function_parameters(oper,n1,n2)"
   ]
  },
  {
   "cell_type": "code",
   "execution_count": 22,
   "id": "77bf6b31",
   "metadata": {},
   "outputs": [
    {
     "name": "stdout",
     "output_type": "stream",
     "text": [
      "av bfytf jhkjn f\n",
      "2\n",
      "avbyfjknf"
     ]
    }
   ],
   "source": [
    "#Task 14\n",
    "def wah():\n",
    "    str1=input()\n",
    "    n=int(input())\n",
    "    index=0\n",
    "    for i in str1:\n",
    "        if index==0:\n",
    "            print(i,end='')\n",
    "        elif index%n!=0:\n",
    "            print(i,end='')\n",
    "        else:\n",
    "            pass\n",
    "        index+=1\n",
    "wah()\n"
   ]
  },
  {
   "cell_type": "code",
   "execution_count": 17,
   "id": "c8308ec2",
   "metadata": {},
   "outputs": [
    {
     "name": "stdout",
     "output_type": "stream",
     "text": [
      "Enter the order item in a list :[Rice,potato,chicken]\n",
      "Where to Deliver:Dhanmondi\n",
      "['Rice', 'potato', 'chicken']\n",
      "405\n"
     ]
    }
   ],
   "source": [
    "#Tash 15\n",
    "list1=input('Enter the order item in a list :')\n",
    "location=input('Where to Deliver:')\n",
    "def payment(list1,location):\n",
    "    summ=0\n",
    "    dic={'Rice':105,'potato':20,'chicken':250,'Beef':510,'oil':85}\n",
    "    list1=list1[1:(len(list1)-1)]\n",
    "    for i in list1:\n",
    "        list2=list1.split(',')\n",
    "    print(list2)\n",
    "    for i in list2:\n",
    "            k=dic.get(i)\n",
    "            summ+=k\n",
    "    if location=='Dhanmondi':\n",
    "        summ+=30\n",
    "    else:\n",
    "        summ+=70\n",
    "    print(summ)\n",
    "payment(list1,\"Dhanmondi\")\n"
   ]
  },
  {
   "cell_type": "code",
   "execution_count": null,
   "id": "32298684",
   "metadata": {},
   "outputs": [],
   "source": []
  }
 ],
 "metadata": {
  "kernelspec": {
   "display_name": "Python 3 (ipykernel)",
   "language": "python",
   "name": "python3"
  },
  "language_info": {
   "codemirror_mode": {
    "name": "ipython",
    "version": 3
   },
   "file_extension": ".py",
   "mimetype": "text/x-python",
   "name": "python",
   "nbconvert_exporter": "python",
   "pygments_lexer": "ipython3",
   "version": "3.9.7"
  }
 },
 "nbformat": 4,
 "nbformat_minor": 5
}
