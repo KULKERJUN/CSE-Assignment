{
 "cells": [
  {
   "cell_type": "code",
   "execution_count": 14,
   "id": "972fd965",
   "metadata": {},
   "outputs": [
    {
     "name": "stdout",
     "output_type": "stream",
     "text": [
      "['a', 'v', 'r', 'ada']\n"
     ]
    }
   ],
   "source": [
    "d=['a','v','x','r','ada']\n",
    "print(d)"
   ]
  },
  {
   "cell_type": "code",
   "execution_count": 1,
   "id": "c8cf788a",
   "metadata": {},
   "outputs": [
    {
     "name": "stdout",
     "output_type": "stream",
     "text": [
      "400\n"
     ]
    }
   ],
   "source": [
    "#Task 1\n",
    "a_tuple = (\"The Institute\", (\"Best Mystery & Thriller\", \"The Silent Patient\", 68821), 75717,\n",
    "[1, 2, 3, 400, 5, 6, 7], (\"Best Fiction\", \"The Testaments\", 98291))\n",
    "print(a_tuple[3][3])\n"
   ]
  },
  {
   "cell_type": "code",
   "execution_count": 2,
   "id": "6904b025",
   "metadata": {},
   "outputs": [
    {
     "name": "stdout",
     "output_type": "stream",
     "text": [
      "(24, 25, 26)\n"
     ]
    }
   ],
   "source": [
    "#task2\n",
    "tup=(10, 20, 24, 25, 26, 35, 70)\n",
    "print(tup[2:(len(tup)-2)])\n"
   ]
  },
  {
   "cell_type": "code",
   "execution_count": 8,
   "id": "228e4a93",
   "metadata": {},
   "outputs": [
    {
     "name": "stdout",
     "output_type": "stream",
     "text": [
      "4\n",
      "('Best Mystery & Thriller', 'The Silent Patient', 68, 821)\n",
      "('Best Horror', 'The Institute', 75, 717)\n",
      "('Best History & Biography', 'The five', 31, 783)\n",
      "('Best Fiction', 'The Testaments', 98, 291)\n"
     ]
    }
   ],
   "source": [
    "#task3\n",
    "book_info = (\n",
    "(\"Best Mystery & Thriller\",\"The Silent Patient\",68,821),\n",
    "(\"Best Horror\",\"The Institute\",75,717),\n",
    "(\"Best History & Biography\",\"The five\",31,783 ),\n",
    "(\"Best Fiction\",\"The Testaments\",98,291)\n",
    ")\n",
    "print(len(book_info))\n",
    "for hoyo in book_info:\n",
    "    print(hoyo)\n"
   ]
  },
  {
   "cell_type": "code",
   "execution_count": 22,
   "id": "8dca0e51",
   "metadata": {},
   "outputs": [
    {
     "name": "stdout",
     "output_type": "stream",
     "text": [
      "Best Mystery & Thriller won the 'The Silent Patient' category with 68821\n",
      "Best Horror won the 'The Institute' category with 75717\n",
      "Best History & Biography won the 'The five' category with 31783\n",
      "Best Fiction won the 'The Testaments' category with 98291\n"
     ]
    }
   ],
   "source": [
    "#Task4\n",
    "book_info = (\n",
    "(\"Best Mystery & Thriller\",\"The Silent Patient\",68821),\n",
    "(\"Best Horror\",\"The Institute\",75717),\n",
    "(\"Best History & Biography\",\"The five\",31783 ),\n",
    "(\"Best Fiction\",\"The Testaments\",98291)\n",
    ")\n",
    "w,x,y,z=book_info\n",
    "#a,b,c=book_info[1]\n",
    "#m,n,s=book_info[2]\n",
    "#s,r,t=book_info[3]\n",
    "print(w[0],'won the',\"'\"+w[1]+\"'\",\"category with\",w[2])\n",
    "print(x[0],'won the',\"'\"+x[1]+\"'\",'category with',x[2])\n",
    "print(y[0],'won the',\"'\"+y[1]+\"'\",'category with',y[2])\n",
    "print(z[0],'won the',\"'\"+z[1]+\"'\",'category with',z[2])\n"
   ]
  },
  {
   "cell_type": "code",
   "execution_count": 6,
   "id": "9b973e48",
   "metadata": {},
   "outputs": [
    {
     "name": "stdout",
     "output_type": "stream",
     "text": [
      "Enter the number :8\n",
      "4\n"
     ]
    }
   ],
   "source": [
    "#Task5\n",
    "Given_tuple=(10, 8, 5, 2, 10, 15, 10, 8, 5, 8, 8, 2)\n",
    "n=int(input('Enter the number :'))\n",
    "print(Given_tuple.count(n))"
   ]
  },
  {
   "cell_type": "code",
   "execution_count": 25,
   "id": "120e8961",
   "metadata": {},
   "outputs": [
    {
     "name": "stdout",
     "output_type": "stream",
     "text": [
      "('h', 'g', 'f', 'e', 'd', 'c', 'b', 'a')\n"
     ]
    }
   ],
   "source": [
    "#Task6\n",
    "Given_tuple=('a', 'b', 'c', 'd', 'e', 'f', 'g', 'h')\n",
    "l1=list(Given_tuple)\n",
    "l1.reverse()\n",
    "#g1=tuple(l1)\n",
    "print(tuple(l1))"
   ]
  },
  {
   "cell_type": "code",
   "execution_count": 19,
   "id": "7d9cb663",
   "metadata": {},
   "outputs": [
    {
     "name": "stdout",
     "output_type": "stream",
     "text": [
      "{'Harry': 15, 'Draco': 8, 'Nevil': 19, 'Ginie': 18, 'Luna': 14}\n"
     ]
    }
   ],
   "source": [
    "#Task7\n",
    "d1={'Harry':15, 'Draco':8, 'Nevil':19}\n",
    "d2={'Ginie':18, 'Luna': 14}\n",
    "d1.update(d2)\n",
    "print(d1)\n"
   ]
  },
  {
   "cell_type": "code",
   "execution_count": 23,
   "id": "b2013155",
   "metadata": {},
   "outputs": [
    {
     "name": "stdout",
     "output_type": "stream",
     "text": [
      "How many:2\n",
      "Enter keys:jonas\n",
      "Enter values(Integer):21\n",
      "Enter keys:margarret\n",
      "Enter values(Integer):19\n",
      "{'jonas': 21, 'margarret': 19}\n",
      "Average: 20.0\n"
     ]
    }
   ],
   "source": [
    "#task8\n",
    "dic1={}\n",
    "l=[]\n",
    "k=[]\n",
    "n=int(input('How many:'))\n",
    "for i in range(n):\n",
    "    m=input(\"Enter keys:\")\n",
    "    j=int(input(\"Enter values(Integer):\"))\n",
    "    l.append(m)\n",
    "    k.append(j)\n",
    "c=0\n",
    "for i in l:\n",
    "    dic1[i]=k[c]\n",
    "    c+=1\n",
    "print(dic1)\n",
    "q=0\n",
    "n=0\n",
    "for i in k:\n",
    "    q+=i\n",
    "    n+=1\n",
    "print('Average:',(q/n))"
   ]
  },
  {
   "cell_type": "code",
   "execution_count": 53,
   "id": "4594d633",
   "metadata": {},
   "outputs": [
    {
     "name": "stdout",
     "output_type": "stream",
     "text": [
      "Enter The Number:170\n",
      "{'Cierra Vega': 175, 'Alden Cantrell': 200, 'Pierre Cox': 190}\n"
     ]
    }
   ],
   "source": [
    "#task9\n",
    "exam_marks = {'Cierra Vega': 175, 'Alden Cantrell': 200, 'Kierra Gentry': 165, 'Pierre Cox': 190}\n",
    "n=int(input('Enter The Number:'))\n",
    "dic1={}\n",
    "for i,j in exam_marks.items():\n",
    "    if j>=n:\n",
    "        dic1[i]=j\n",
    "    else:\n",
    "        continue\n",
    "print(dic1)"
   ]
  },
  {
   "cell_type": "code",
   "execution_count": 1,
   "id": "bea8535c",
   "metadata": {},
   "outputs": [],
   "source": [
    "dic1={'ada':'dad','dad':123,143:'sad'}\n",
    "#print(dic1['ada'])\n",
    "#assigning value\n",
    "#dic1['asd']={'name':'rafi','age':21}\n",
    "#v={'name':'Rafi'}\n",
    "#dic1.update(v)\n",
    "#dic1.update({'name':'Rafi','age':21})\n",
    "#print(dic1.values())\n",
    "#print(dic1.items())\n",
    "#print(dic1.keys())\n",
    "#print(dic1)\n"
   ]
  },
  {
   "cell_type": "code",
   "execution_count": 10,
   "id": "737fd80f",
   "metadata": {},
   "outputs": [
    {
     "name": "stdout",
     "output_type": "stream",
     "text": [
      "The highest selling book genre is 'mystery' and the number of books sold are 15 .\n"
     ]
    }
   ],
   "source": [
    "#Task10\n",
    "p={'sci fi': 12, 'mystery': 15, 'horror': 8, 'mythology': 10, 'young_adult': 4, 'adventure':14}\n",
    "max=0\n",
    "for i in p.values():\n",
    "    if i > max:\n",
    "        max=i\n",
    "for j in p.keys():\n",
    "    k=p.get(j)\n",
    "    if k==max:\n",
    "        print('The highest selling book genre is',\"'\"+j+\"'\",'and the number of books sold are',str(max),'.')\n",
    "        "
   ]
  },
  {
   "cell_type": "code",
   "execution_count": 3,
   "id": "46aa55cf",
   "metadata": {},
   "outputs": [
    {
     "name": "stdout",
     "output_type": "stream",
     "text": [
      "THE   SUN IS RED\n",
      "{'t': 1, 'h': 1, 'e': 2, 's': 2, 'u': 1, 'n': 1, 'i': 1, 'r': 1, 'd': 1}\n"
     ]
    }
   ],
   "source": [
    "#task11\n",
    "k=input()\n",
    "k=k.lower()\n",
    "k=k.replace(\" \",\"\")\n",
    "Dic1 = {}\n",
    "for i in k:\n",
    "    if i not in Dic1:\n",
    "        Dic1.update({i:1})\n",
    "    elif i in Dic1:\n",
    "        Dic1[i] += 1\n",
    "print(Dic1)"
   ]
  },
  {
   "cell_type": "code",
   "execution_count": 23,
   "id": "c09eb40a",
   "metadata": {},
   "outputs": [
    {
     "name": "stdout",
     "output_type": "stream",
     "text": [
      "9\n"
     ]
    }
   ],
   "source": [
    "#task 12\n",
    "dict_1 = {'A': [1, 2, 3], 'b': ['1', '2'], \"c\": [4, 5, 6, 7]}\n",
    "k=dict_1.values()\n",
    "j=0\n",
    "l=[]\n",
    "for i in k:\n",
    "    list(i)\n",
    "    l+=list(i)\n",
    "for i in l:\n",
    "    j+=1\n",
    "print(j)\n",
    "#dict1 = {'A': [1, 2, 3], 'b': ['1', '2'], \"c\": [4, 5, 6, 7]}\n",
    "#c = 0\n",
    "#for a in dict1:\n",
    "   # for b in dict1[a]:\n",
    "     #   c += 1\n",
    "#print(c)\n"
   ]
  },
  {
   "cell_type": "code",
   "execution_count": 25,
   "id": "88895896",
   "metadata": {},
   "outputs": [
    {
     "name": "stdout",
     "output_type": "stream",
     "text": [
      "{'a': [1, 3, 2], 'b': [2, 1], 'c': [1]}\n"
     ]
    }
   ],
   "source": [
    "#Task 13\n",
    "list1=[(\"a\", 1), (\"b\", 2), (\"a\", 3), (\"b\", 1), (\"a\", 2), (\"c\", 1)]\n",
    "dict1={}\n",
    "for item in list1:\n",
    "    if item[0] not in dict1:\n",
    "        dict1[item[0]]=[item[1]]\n",
    "    else:\n",
    "        dict1[item[0]].append(item[1])\n",
    "print(dict1)\n",
    "#if append only adds with value\n",
    "#append works for dictionary"
   ]
  },
  {
   "cell_type": "code",
   "execution_count": null,
   "id": "154207df",
   "metadata": {},
   "outputs": [],
   "source": []
  }
 ],
 "metadata": {
  "kernelspec": {
   "display_name": "Python 3 (ipykernel)",
   "language": "python",
   "name": "python3"
  },
  "language_info": {
   "codemirror_mode": {
    "name": "ipython",
    "version": 3
   },
   "file_extension": ".py",
   "mimetype": "text/x-python",
   "name": "python",
   "nbconvert_exporter": "python",
   "pygments_lexer": "ipython3",
   "version": "3.9.7"
  }
 },
 "nbformat": 4,
 "nbformat_minor": 5
}
